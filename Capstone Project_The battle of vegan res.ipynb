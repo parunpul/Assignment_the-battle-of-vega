{
    "cells": [
        {
            "metadata": {
                "collapsed": true
            },
            "cell_type": "markdown",
            "source": "# Introduction/Business Problem"
        },
        {
            "metadata": {},
            "cell_type": "markdown",
            "source": "In a hypothetical business scenario, I am a restaurant consultant who provides insights on the culinary scene aross the U.S. My new client has a very successful vegan fine-dining restaurant in Los Angeles, California. The restaurant's name is Vega-Hype.The owner would like to get on the vegan bandwagon and needed help to expand his business locations.  My task is to come up with a list of cities in California and potentially populous cities across the nation with similar characteristics to Vega-Hype's existing location, Los Angeles, California.   "
        },
        {
            "metadata": {},
            "cell_type": "markdown",
            "source": "# Data used to solve the problem"
        },
        {
            "metadata": {},
            "cell_type": "markdown",
            "source": "- Coordinates of California cities and 1000 largest U.S. cities: <br />\nhttps://www.w3.org/2003/01/geo/test/ustowns/latlong.htm <br />\nhttps://public.opendatasoft.com/explore/dataset/1000-largest-us-cities-by-population-with-geographic-coordinates/table/ <br />\n- Foursquare location data API\n"
        },
        {
            "metadata": {},
            "cell_type": "code",
            "source": "",
            "execution_count": null,
            "outputs": []
        }
    ],
    "metadata": {
        "kernelspec": {
            "name": "python3",
            "display_name": "Python 3.6",
            "language": "python"
        },
        "language_info": {
            "name": "python",
            "version": "3.6.8",
            "mimetype": "text/x-python",
            "codemirror_mode": {
                "name": "ipython",
                "version": 3
            },
            "pygments_lexer": "ipython3",
            "nbconvert_exporter": "python",
            "file_extension": ".py"
        }
    },
    "nbformat": 4,
    "nbformat_minor": 1
}